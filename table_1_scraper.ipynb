{
  "nbformat": 4,
  "nbformat_minor": 0,
  "metadata": {
    "colab": {
      "provenance": []
    },
    "kernelspec": {
      "name": "python3",
      "display_name": "Python 3"
    },
    "language_info": {
      "name": "python"
    }
  },
  "cells": [
    {
      "cell_type": "code",
      "execution_count": 1,
      "metadata": {
        "id": "alCVRxFH3SSi"
      },
      "outputs": [],
      "source": [
        "import numpy as np\n",
        "import pandas as pd\n",
        "\n",
        "from bs4 import BeautifulSoup\n",
        "import requests"
      ]
    },
    {
      "cell_type": "code",
      "source": [
        "URL = 'https://en.wikipedia.org/wiki/UEFA_Euro_2024'\n",
        "\n",
        "response = requests.get(URL)\n",
        "soup = BeautifulSoup(response.content, 'html5lib')"
      ],
      "metadata": {
        "id": "NwEayKa13qgn"
      },
      "execution_count": 2,
      "outputs": []
    },
    {
      "cell_type": "code",
      "source": [
        "table = soup.find_all('tbody')[5]"
      ],
      "metadata": {
        "id": "fhNLW9FG306_"
      },
      "execution_count": 3,
      "outputs": []
    },
    {
      "cell_type": "code",
      "source": [
        "table.find_all('tr')[1:][0].find_all('td')[0].find('a').text"
      ],
      "metadata": {
        "colab": {
          "base_uri": "https://localhost:8080/",
          "height": 36
        },
        "id": "WKICUcQ_357b",
        "outputId": "18a837ad-6da5-4ccd-c3ca-417ad868f04f"
      },
      "execution_count": 23,
      "outputs": [
        {
          "output_type": "execute_result",
          "data": {
            "text/plain": [
              "'Germany'"
            ],
            "application/vnd.google.colaboratory.intrinsic+json": {
              "type": "string"
            }
          },
          "metadata": {},
          "execution_count": 23
        }
      ]
    },
    {
      "cell_type": "code",
      "source": [
        "table.find_all('tr')[1:][0].find_all('td')[1].text"
      ],
      "metadata": {
        "colab": {
          "base_uri": "https://localhost:8080/",
          "height": 36
        },
        "id": "T3K1b6Ef36Rs",
        "outputId": "d82e716c-f056-43d3-d440-b8450344fd76"
      },
      "execution_count": 16,
      "outputs": [
        {
          "output_type": "execute_result",
          "data": {
            "text/plain": [
              "'Host'"
            ],
            "application/vnd.google.colaboratory.intrinsic+json": {
              "type": "string"
            }
          },
          "metadata": {},
          "execution_count": 16
        }
      ]
    },
    {
      "cell_type": "code",
      "source": [
        "table.find_all('tr')[1:][2].find_all('td')[1].text"
      ],
      "metadata": {
        "colab": {
          "base_uri": "https://localhost:8080/",
          "height": 36
        },
        "id": "j5fBLQEv4eab",
        "outputId": "0316edba-e068-41a9-a78f-27cb214e5b46"
      },
      "execution_count": 17,
      "outputs": [
        {
          "output_type": "execute_result",
          "data": {
            "text/plain": [
              "'Group B winner'"
            ],
            "application/vnd.google.colaboratory.intrinsic+json": {
              "type": "string"
            }
          },
          "metadata": {},
          "execution_count": 17
        }
      ]
    },
    {
      "cell_type": "code",
      "source": [
        "table.find_all('tr')[1:][2].find_all('td')[3].text.split()[0]"
      ],
      "metadata": {
        "colab": {
          "base_uri": "https://localhost:8080/",
          "height": 36
        },
        "id": "zhsc8wzq4qoY",
        "outputId": "2ff7891b-e98a-407a-97a8-8d37d91f939d"
      },
      "execution_count": 21,
      "outputs": [
        {
          "output_type": "execute_result",
          "data": {
            "text/plain": [
              "'10'"
            ],
            "application/vnd.google.colaboratory.intrinsic+json": {
              "type": "string"
            }
          },
          "metadata": {},
          "execution_count": 21
        }
      ]
    },
    {
      "cell_type": "code",
      "source": [
        "teams = []\n",
        "qualified_as = []\n",
        "previous_appearances = []\n",
        "\n",
        "n_rows = len(table.find_all('tr'))\n",
        "\n",
        "for idx in range(1, n_rows):\n",
        "  data = table.find_all('tr')[idx]\n",
        "  teams.append(data.find_all('td')[0].find('a').text)\n",
        "  qualified_as.append(data.find_all('td')[1].text)\n",
        "  previous_appearances.append(int(data.find_all('td')[3].text.split()[0]))"
      ],
      "metadata": {
        "id": "X076COJE4y_w"
      },
      "execution_count": 28,
      "outputs": []
    },
    {
      "cell_type": "code",
      "source": [
        "teams"
      ],
      "metadata": {
        "colab": {
          "base_uri": "https://localhost:8080/"
        },
        "id": "Z-qcvy3U6VBm",
        "outputId": "500c6fb4-1528-4f05-c760-8bda4efbd176"
      },
      "execution_count": 29,
      "outputs": [
        {
          "output_type": "execute_result",
          "data": {
            "text/plain": [
              "['Germany',\n",
              " 'Belgium',\n",
              " 'France',\n",
              " 'Portugal',\n",
              " 'Scotland',\n",
              " 'Spain',\n",
              " 'Turkey',\n",
              " 'Austria',\n",
              " 'England',\n",
              " 'Hungary',\n",
              " 'Slovakia',\n",
              " 'Albania',\n",
              " 'Denmark',\n",
              " 'Netherlands',\n",
              " 'Romania',\n",
              " 'Switzerland',\n",
              " 'Serbia',\n",
              " 'Czech Republic',\n",
              " 'Italy',\n",
              " 'Slovenia',\n",
              " 'Croatia',\n",
              " 'Georgia',\n",
              " 'Ukraine',\n",
              " 'Poland']"
            ]
          },
          "metadata": {},
          "execution_count": 29
        }
      ]
    },
    {
      "cell_type": "code",
      "source": [
        "qualified_as"
      ],
      "metadata": {
        "colab": {
          "base_uri": "https://localhost:8080/"
        },
        "id": "8MlqDyVr6VsP",
        "outputId": "01796996-5bee-4603-d0fd-e85f5d5f7b70"
      },
      "execution_count": 26,
      "outputs": [
        {
          "output_type": "execute_result",
          "data": {
            "text/plain": [
              "['Host',\n",
              " 'Group F winner',\n",
              " 'Group B winner',\n",
              " 'Group J winner',\n",
              " 'Group A runner-up',\n",
              " 'Group A winner',\n",
              " 'Group D winner',\n",
              " 'Group F runner-up',\n",
              " 'Group C winner',\n",
              " 'Group G winner',\n",
              " 'Group J runner-up',\n",
              " 'Group E winner',\n",
              " 'Group H winner',\n",
              " 'Group B runner-up',\n",
              " 'Group I winner',\n",
              " 'Group I runner-up',\n",
              " 'Group G runner-up',\n",
              " 'Group E runner-up',\n",
              " 'Group C runner-up',\n",
              " 'Group H runner-up',\n",
              " 'Group D runner-up',\n",
              " 'Play-off Path C winner',\n",
              " 'Play-off Path B winner',\n",
              " 'Play-off Path A winner']"
            ]
          },
          "metadata": {},
          "execution_count": 26
        }
      ]
    },
    {
      "cell_type": "code",
      "source": [
        "df = pd.DataFrame({'Team': teams,\n",
        "                   'Qualified as': qualified_as,\n",
        "                   'Previous appearances': previous_appearances})\n",
        "df = df.sort_values(by='Team')"
      ],
      "metadata": {
        "id": "nb_2k4uT6bc4"
      },
      "execution_count": 37,
      "outputs": []
    },
    {
      "cell_type": "code",
      "source": [
        "df.to_csv('team-qualified_as-previous_appearances.csv', index=False)"
      ],
      "metadata": {
        "id": "lF8Xk-8k65Xg"
      },
      "execution_count": 38,
      "outputs": []
    },
    {
      "cell_type": "code",
      "source": [],
      "metadata": {
        "id": "sWuT_azp7Dzt"
      },
      "execution_count": null,
      "outputs": []
    }
  ]
}